{
  "nbformat": 4,
  "nbformat_minor": 0,
  "metadata": {
    "colab": {
      "provenance": [],
      "authorship_tag": "ABX9TyNDY6NSw65V3fxle156yfMt",
      "include_colab_link": true
    },
    "kernelspec": {
      "name": "python3",
      "display_name": "Python 3"
    },
    "language_info": {
      "name": "python"
    }
  },
  "cells": [
    {
      "cell_type": "markdown",
      "metadata": {
        "id": "view-in-github",
        "colab_type": "text"
      },
      "source": [
        "<a href=\"https://colab.research.google.com/github/Fose47/IA/blob/main/chatbot.ipynb\" target=\"_parent\"><img src=\"https://colab.research.google.com/assets/colab-badge.svg\" alt=\"Open In Colab\"/></a>"
      ]
    },
    {
      "cell_type": "code",
      "execution_count": 5,
      "metadata": {
        "colab": {
          "base_uri": "https://localhost:8080/",
          "height": 561
        },
        "id": "KbsXde0bBv0f",
        "outputId": "e707e03e-d022-42cc-a068-85713926db73"
      },
      "outputs": [
        {
          "output_type": "stream",
          "name": "stdout",
          "text": [
            "¡Hola! Soy un chatbot. Puedes preguntarme sobre varios temas.\n",
            "Tú: Quien sera campeon de F1 este año\n",
            "Chatbot: Lo mas probable es que el ganador del mundial de F1 de la temporada será Max Verstappen\n",
            "Tú: Mejor piloto de la historia en F1\n",
            "Chatbot: Soy una IA no lo se, por datos Lewis Hamilton\n",
            "Tú: Como estas\n",
            "Chatbot: Estoy bien\n",
            "Tú: Como estas\n",
            "Chatbot: Estoy cansado de preguntas tontas\n",
            "Tú: Quien eres\n",
            "Chatbot: Soy un chatbot creado para ayudarte.\n",
            "Tú: Tu nombre\n",
            "Chatbot: Me llamo ChatBot.\n"
          ]
        },
        {
          "output_type": "error",
          "ename": "KeyboardInterrupt",
          "evalue": "Interrupted by user",
          "traceback": [
            "\u001b[0;31m---------------------------------------------------------------------------\u001b[0m",
            "\u001b[0;31mKeyboardInterrupt\u001b[0m                         Traceback (most recent call last)",
            "\u001b[0;32m<ipython-input-5-9dd68fe212ad>\u001b[0m in \u001b[0;36m<cell line: 73>\u001b[0;34m()\u001b[0m\n\u001b[1;32m     71\u001b[0m \u001b[0;34m\u001b[0m\u001b[0m\n\u001b[1;32m     72\u001b[0m \u001b[0;31m# Ejecutar el chatbot\u001b[0m\u001b[0;34m\u001b[0m\u001b[0;34m\u001b[0m\u001b[0m\n\u001b[0;32m---> 73\u001b[0;31m \u001b[0mchatbot\u001b[0m\u001b[0;34m(\u001b[0m\u001b[0;34m)\u001b[0m\u001b[0;34m\u001b[0m\u001b[0;34m\u001b[0m\u001b[0m\n\u001b[0m",
            "\u001b[0;32m<ipython-input-5-9dd68fe212ad>\u001b[0m in \u001b[0;36mchatbot\u001b[0;34m()\u001b[0m\n\u001b[1;32m     63\u001b[0m     \u001b[0mprint\u001b[0m\u001b[0;34m(\u001b[0m\u001b[0;34m\"¡Hola! Soy un chatbot. Puedes preguntarme sobre varios temas.\"\u001b[0m\u001b[0;34m)\u001b[0m\u001b[0;34m\u001b[0m\u001b[0;34m\u001b[0m\u001b[0m\n\u001b[1;32m     64\u001b[0m     \u001b[0;32mwhile\u001b[0m \u001b[0;32mTrue\u001b[0m\u001b[0;34m:\u001b[0m\u001b[0;34m\u001b[0m\u001b[0;34m\u001b[0m\u001b[0m\n\u001b[0;32m---> 65\u001b[0;31m         \u001b[0mpregunta\u001b[0m \u001b[0;34m=\u001b[0m \u001b[0minput\u001b[0m\u001b[0;34m(\u001b[0m\u001b[0;34m\"Tú: \"\u001b[0m\u001b[0;34m)\u001b[0m\u001b[0;34m\u001b[0m\u001b[0;34m\u001b[0m\u001b[0m\n\u001b[0m\u001b[1;32m     66\u001b[0m         \u001b[0;32mif\u001b[0m \u001b[0mpregunta\u001b[0m\u001b[0;34m.\u001b[0m\u001b[0mlower\u001b[0m\u001b[0;34m(\u001b[0m\u001b[0;34m)\u001b[0m \u001b[0;34m==\u001b[0m \u001b[0;34m\"salir\"\u001b[0m\u001b[0;34m:\u001b[0m\u001b[0;34m\u001b[0m\u001b[0;34m\u001b[0m\u001b[0m\n\u001b[1;32m     67\u001b[0m             \u001b[0mprint\u001b[0m\u001b[0;34m(\u001b[0m\u001b[0;34m\"¡Hasta luego!\"\u001b[0m\u001b[0;34m)\u001b[0m\u001b[0;34m\u001b[0m\u001b[0;34m\u001b[0m\u001b[0m\n",
            "\u001b[0;32m/usr/local/lib/python3.10/dist-packages/ipykernel/kernelbase.py\u001b[0m in \u001b[0;36mraw_input\u001b[0;34m(self, prompt)\u001b[0m\n\u001b[1;32m    849\u001b[0m                 \u001b[0;34m\"raw_input was called, but this frontend does not support input requests.\"\u001b[0m\u001b[0;34m\u001b[0m\u001b[0;34m\u001b[0m\u001b[0m\n\u001b[1;32m    850\u001b[0m             )\n\u001b[0;32m--> 851\u001b[0;31m         return self._input_request(str(prompt),\n\u001b[0m\u001b[1;32m    852\u001b[0m             \u001b[0mself\u001b[0m\u001b[0;34m.\u001b[0m\u001b[0m_parent_ident\u001b[0m\u001b[0;34m,\u001b[0m\u001b[0;34m\u001b[0m\u001b[0;34m\u001b[0m\u001b[0m\n\u001b[1;32m    853\u001b[0m             \u001b[0mself\u001b[0m\u001b[0;34m.\u001b[0m\u001b[0m_parent_header\u001b[0m\u001b[0;34m,\u001b[0m\u001b[0;34m\u001b[0m\u001b[0;34m\u001b[0m\u001b[0m\n",
            "\u001b[0;32m/usr/local/lib/python3.10/dist-packages/ipykernel/kernelbase.py\u001b[0m in \u001b[0;36m_input_request\u001b[0;34m(self, prompt, ident, parent, password)\u001b[0m\n\u001b[1;32m    893\u001b[0m             \u001b[0;32mexcept\u001b[0m \u001b[0mKeyboardInterrupt\u001b[0m\u001b[0;34m:\u001b[0m\u001b[0;34m\u001b[0m\u001b[0;34m\u001b[0m\u001b[0m\n\u001b[1;32m    894\u001b[0m                 \u001b[0;31m# re-raise KeyboardInterrupt, to truncate traceback\u001b[0m\u001b[0;34m\u001b[0m\u001b[0;34m\u001b[0m\u001b[0m\n\u001b[0;32m--> 895\u001b[0;31m                 \u001b[0;32mraise\u001b[0m \u001b[0mKeyboardInterrupt\u001b[0m\u001b[0;34m(\u001b[0m\u001b[0;34m\"Interrupted by user\"\u001b[0m\u001b[0;34m)\u001b[0m \u001b[0;32mfrom\u001b[0m \u001b[0;32mNone\u001b[0m\u001b[0;34m\u001b[0m\u001b[0;34m\u001b[0m\u001b[0m\n\u001b[0m\u001b[1;32m    896\u001b[0m             \u001b[0;32mexcept\u001b[0m \u001b[0mException\u001b[0m \u001b[0;32mas\u001b[0m \u001b[0me\u001b[0m\u001b[0;34m:\u001b[0m\u001b[0;34m\u001b[0m\u001b[0;34m\u001b[0m\u001b[0m\n\u001b[1;32m    897\u001b[0m                 \u001b[0mself\u001b[0m\u001b[0;34m.\u001b[0m\u001b[0mlog\u001b[0m\u001b[0;34m.\u001b[0m\u001b[0mwarning\u001b[0m\u001b[0;34m(\u001b[0m\u001b[0;34m\"Invalid Message:\"\u001b[0m\u001b[0;34m,\u001b[0m \u001b[0mexc_info\u001b[0m\u001b[0;34m=\u001b[0m\u001b[0;32mTrue\u001b[0m\u001b[0;34m)\u001b[0m\u001b[0;34m\u001b[0m\u001b[0;34m\u001b[0m\u001b[0m\n",
            "\u001b[0;31mKeyboardInterrupt\u001b[0m: Interrupted by user"
          ]
        }
      ],
      "source": [
        "from sklearn.feature_extraction.text import TfidfVectorizer\n",
        "from sklearn.svm import LinearSVC\n",
        "from sklearn.pipeline import Pipeline\n",
        "import random\n",
        "\n",
        "# Datos de entrenamiento\n",
        "entrenamiento = [\n",
        "    (\"¿Que clima hace hoy?\", \"clima\"),\n",
        "    (\"¿Qué temperatura hace hoy?\", \"clima\"),\n",
        "    (\"¿Va a llover hoy?\", \"clima\"),\n",
        "    (\"¿Cuál es tu nombre?\", \"informacion_personal\"),\n",
        "    (\"¿Quién eres tú?\", \"informacion_personal\"),\n",
        "    (\"¿Cómo estás?\", \"sentimientos\"),\n",
        "    (\"¿Cómo te encuentras?\", \"sentimientos\"),\n",
        "    (\"¿Te pasa algo?\", \"sentimientos\"),\n",
        "    (\"¿Qué hora es?\", \"tiempo\"),\n",
        "    (\"¿Cuál es la capital de España?\", \"informacion_general\"),\n",
        "    (\"¿Quien ganara el mundial de F1 de 2024?\",\"campeon_F1\"),\n",
        "    (\"¿Campeon de este año en F1?\",\"campeon_F1\"),\n",
        "    (\"¿Quien acabará primero en F1?\",\"campeon_F1\"),\n",
        "    (\"¿Mejor piloto de la historia de la F1?\",\"piloto_F1\"),\n",
        "    (\"¿Mejor piloto de la historia?\",\"piloto_F1\"),\n",
        "    (\"¿Cuál es el mejor piloto de la historia?\",\"piloto_F1\"),\n",
        "]\n",
        "\n",
        "# Separar preguntas y etiquetas\n",
        "preguntas, etiquetas = zip(*entrenamiento)\n",
        "\n",
        "# Crear un modelo de clasificación\n",
        "modelo = Pipeline([\n",
        "    ('vectorizer', TfidfVectorizer()),\n",
        "    ('clf', LinearSVC())\n",
        "])\n",
        "\n",
        "# Entrenar el modelo\n",
        "modelo.fit(preguntas, etiquetas)\n",
        "\n",
        "# Función para obtener la etiqueta predicha\n",
        "def obtener_etiqueta(pregunta):\n",
        "    return modelo.predict([pregunta])[0]\n",
        "\n",
        "# Respuestas posibles\n",
        "respuestas = {\n",
        "    \"clima\": [\"El clima hoy es soleado y cálido.\", \"La temperatura actual es de 25 grados Celsius.\", \"No, no se espera lluvia para hoy.\"],\n",
        "    \"informacion_personal\": [\"Soy un chatbot creado para ayudarte.\", \"Me llamo ChatBot.\", \"Soy un programa de inteligencia artificial diseñado para responder preguntas.\"],\n",
        "    \"sentimientos\": [\"Soy una IA no tengo sentimientos\", \"Estoy bien\", \"Estoy cansado de preguntas tontas\", \"eso da igual,estoy aqui para ayudarte\"],\n",
        "    \"tiempo\": [\"No tengo la capacidad de saber la hora actual.\", \"Lo siento, no puedo ayudarte con eso.\", \"Intenta buscar en línea para obtener la hora actual.\"],\n",
        "    \"informacion_general\": [\"La capital de España es Madrid.\", \"Madrid es la capital de España.\", \"España tiene como capital a Madrid.\"],\n",
        "    \"campeon_F1\": [\"Lo mas probable es que el ganador del mundial de F1 de la temporada será Max Verstappen\",\"Posiblemente Max Verstappen\",\"En circunstancias normales Max Verstappen pero podria ser tambien Charles Leclerc o Sergio Pérez\"],\n",
        "    \"piloto_F1\": [\"Depende de a quien preguntes, muchos contestarian Ayrton Senna,Michael Schumacher o Fernando Alonso\", \"Ayrton Senna o si solo ves los numero Lewis Hamilton\", \"Soy una IA no lo se, por datos Lewis Hamilton\"]\n",
        "}\n",
        "\n",
        "# Función para obtener respuesta del chatbot\n",
        "def obtener_respuesta(pregunta):\n",
        "    etiqueta = obtener_etiqueta(pregunta)\n",
        "    if etiqueta in respuestas:\n",
        "        return random.choice(respuestas[etiqueta])\n",
        "    else:\n",
        "        return \"Lo siento, no puedo responder a esa pregunta.\"\n",
        "\n",
        "# Función principal del chatbot\n",
        "def chatbot():\n",
        "    print(\"¡Hola! Soy un chatbot. Puedes preguntarme sobre varios temas.\")\n",
        "    while True:\n",
        "        pregunta = input(\"Tú: \")\n",
        "        if pregunta.lower() == \"salir\":\n",
        "            print(\"¡Hasta luego!\")\n",
        "            break\n",
        "        respuesta = obtener_respuesta(pregunta)\n",
        "        print(\"Chatbot: \" + respuesta)\n",
        "\n",
        "# Ejecutar el chatbot\n",
        "chatbot()\n"
      ]
    }
  ]
}